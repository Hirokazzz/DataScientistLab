{
  "nbformat": 4,
  "nbformat_minor": 0,
  "metadata": {
    "colab": {
      "name": "SVMでIrisデータを分析する.ipynb",
      "provenance": [],
      "collapsed_sections": [],
      "include_colab_link": true
    },
    "kernelspec": {
      "name": "python3",
      "display_name": "Python 3"
    }
  },
  "cells": [
    {
      "cell_type": "markdown",
      "metadata": {
        "id": "view-in-github",
        "colab_type": "text"
      },
      "source": [
        "<a href=\"https://colab.research.google.com/github/Hirokazzz/DataScientistLab/blob/master/SVM%E3%81%A7Iris%E3%83%87%E3%83%BC%E3%82%BF%E3%82%92%E5%88%86%E6%9E%90%E3%81%99%E3%82%8B.ipynb\" target=\"_parent\"><img src=\"https://colab.research.google.com/assets/colab-badge.svg\" alt=\"Open In Colab\"/></a>"
      ]
    },
    {
      "cell_type": "markdown",
      "metadata": {
        "id": "2rAYlYssd3DQ",
        "colab_type": "text"
      },
      "source": [
        "参考文献：東京大学のデータサイエンティスト育成講座\n",
        "\n",
        "### アイリスのクラス分類（SVM）\n",
        "\n",
        "アイリスの花弁の長さと幅、ガクの長さと幅をセンチメートル単位で観測してアイリスの分類を行います。"
      ]
    },
    {
      "cell_type": "code",
      "metadata": {
        "id": "ze_WyvKleTBM",
        "colab_type": "code",
        "colab": {}
      },
      "source": [
        "# ライブラリの読み込み\n",
        "import numpy as np\n",
        "from scipy import sparse\n",
        "import matplotlib.pyplot as plt\n",
        "import pandas as pd\n",
        "from IPython.display import display\n",
        "import sys"
      ],
      "execution_count": 1,
      "outputs": []
    },
    {
      "cell_type": "markdown",
      "metadata": {
        "id": "NlcdPC5O5AIl",
        "colab_type": "text"
      },
      "source": [
        "### データの読み込み"
      ]
    },
    {
      "cell_type": "code",
      "metadata": {
        "id": "lbenrUCIfakB",
        "colab_type": "code",
        "colab": {}
      },
      "source": [
        "from sklearn.datasets import load_iris\n",
        "iris_dataset = load_iris()"
      ],
      "execution_count": 2,
      "outputs": []
    },
    {
      "cell_type": "markdown",
      "metadata": {
        "id": "ASnPm74I9rjq",
        "colab_type": "text"
      },
      "source": [
        "読み込んだデータはBunchクラスのオブジェクトであり、辞書と同じ形式のオブジェクトでキーと値を持っています。\n",
        "\n",
        "iris_dataset.keys()でキーの一覧を確認できます。"
      ]
    },
    {
      "cell_type": "code",
      "metadata": {
        "id": "K8uoW3_Zfx07",
        "colab_type": "code",
        "colab": {
          "base_uri": "https://localhost:8080/",
          "height": 51
        },
        "outputId": "72f2aef1-053c-4c14-8609-41b516bd0d54"
      },
      "source": [
        "print(\"key of iris_dataset: \\n{}\".format(iris_dataset.keys()))"
      ],
      "execution_count": 3,
      "outputs": [
        {
          "output_type": "stream",
          "text": [
            "key of iris_dataset: \n",
            "dict_keys(['data', 'target', 'target_names', 'DESCR', 'feature_names', 'filename'])\n"
          ],
          "name": "stdout"
        }
      ]
    },
    {
      "cell_type": "markdown",
      "metadata": {
        "id": "F021WLqd_QLq",
        "colab_type": "text"
      },
      "source": [
        "### 求めたいアイリスの種類の確認\n"
      ]
    },
    {
      "cell_type": "code",
      "metadata": {
        "id": "6Y6ZKU-vggH-",
        "colab_type": "code",
        "colab": {
          "base_uri": "https://localhost:8080/",
          "height": 34
        },
        "outputId": "4cc1d7c8-65f2-4397-e3db-e5d4d69ea7a6"
      },
      "source": [
        "print(\"アイリスの種類: {}\".format(iris_dataset['target_names']))"
      ],
      "execution_count": 4,
      "outputs": [
        {
          "output_type": "stream",
          "text": [
            "アイリスの種類: ['setosa' 'versicolor' 'virginica']\n"
          ],
          "name": "stdout"
        }
      ]
    },
    {
      "cell_type": "markdown",
      "metadata": {
        "id": "eCMApox0AbHU",
        "colab_type": "text"
      },
      "source": [
        "#### 特徴量の名前とデータの確認\n",
        "どのようなデータがどのような順番で入っているか確認するには iris_dataset['feature_names']で取得\n",
        "\n",
        "* 「sepal length (cm)」:ガクの長さ\n",
        "*「sepal width (cm)」 :ガクの幅\n",
        "*「petal length (cm)」:花弁の長さ\n",
        "*「petal width (cm)」:花弁の幅\n",
        "\n",
        "それぞれの個別の値を一部確認するには iris_dataset['data'][:5]で取得。[:5]の5の値を変更すると、その数だけ確認できます。  \n",
        "全て確認する場合は、iris_dataset['data'] で取得できます。"
      ]
    },
    {
      "cell_type": "code",
      "metadata": {
        "id": "T3ZY32DphhyT",
        "colab_type": "code",
        "colab": {
          "base_uri": "https://localhost:8080/",
          "height": 34
        },
        "outputId": "ca01480d-c8d4-45a1-fae1-038f6286e32b"
      },
      "source": [
        "print(\"特徴量の名前: {}\".format(iris_dataset['feature_names']))"
      ],
      "execution_count": 5,
      "outputs": [
        {
          "output_type": "stream",
          "text": [
            "特徴量の名前: ['sepal length (cm)', 'sepal width (cm)', 'petal length (cm)', 'petal width (cm)']\n"
          ],
          "name": "stdout"
        }
      ]
    },
    {
      "cell_type": "code",
      "metadata": {
        "id": "XvRgW1Kth07V",
        "colab_type": "code",
        "colab": {
          "base_uri": "https://localhost:8080/",
          "height": 119
        },
        "outputId": "6687d753-dc10-4db8-8231-e666971a2357"
      },
      "source": [
        "print(\"5件だけデータ表示: \\n{}\".format(iris_dataset['data'][:5]))"
      ],
      "execution_count": 6,
      "outputs": [
        {
          "output_type": "stream",
          "text": [
            "5件だけデータ表示: \n",
            "[[5.1 3.5 1.4 0.2]\n",
            " [4.9 3.  1.4 0.2]\n",
            " [4.7 3.2 1.3 0.2]\n",
            " [4.6 3.1 1.5 0.2]\n",
            " [5.  3.6 1.4 0.2]]\n"
          ],
          "name": "stdout"
        }
      ]
    },
    {
      "cell_type": "code",
      "metadata": {
        "id": "Yd-IMz3KyGFE",
        "colab_type": "code",
        "colab": {
          "base_uri": "https://localhost:8080/",
          "height": 35
        },
        "outputId": "856577c0-a266-4b0f-bab3-afacc8de7e79"
      },
      "source": [
        "#データサイズを確認\n",
        "print(\"Shape of data: {}\".format(iris_dataset['data'].shape))"
      ],
      "execution_count": null,
      "outputs": [
        {
          "output_type": "stream",
          "text": [
            "Shape of data: (150, 4)\n"
          ],
          "name": "stdout"
        }
      ]
    },
    {
      "cell_type": "markdown",
      "metadata": {
        "id": "REldsw2BUlaL",
        "colab_type": "text"
      },
      "source": [
        "### 訓練データとテストデータの分離"
      ]
    },
    {
      "cell_type": "code",
      "metadata": {
        "id": "9wewP1dc0Dp1",
        "colab_type": "code",
        "colab": {}
      },
      "source": [
        "from sklearn.model_selection import train_test_split\n",
        "X_train,X_test,y_train,y_test = train_test_split(\n",
        "  iris_dataset['data'],iris_dataset['target'],random_state=0\n",
        ")"
      ],
      "execution_count": 7,
      "outputs": []
    },
    {
      "cell_type": "markdown",
      "metadata": {
        "id": "0y4Xc3cIW1x4",
        "colab_type": "text"
      },
      "source": [
        "分離取得したデータの配列の形状を確認します。"
      ]
    },
    {
      "cell_type": "code",
      "metadata": {
        "id": "lH5IXNcG1Flq",
        "colab_type": "code",
        "colab": {
          "base_uri": "https://localhost:8080/",
          "height": 51
        },
        "outputId": "77cf38cc-4529-4411-87f6-0f8e5891cea1"
      },
      "source": [
        "print(\"X_train shape: {}\".format(X_train.shape))\n",
        "print(\"y_train shape: {}\".format(y_train.shape))"
      ],
      "execution_count": 8,
      "outputs": [
        {
          "output_type": "stream",
          "text": [
            "X_train shape: (112, 4)\n",
            "y_train shape: (112,)\n"
          ],
          "name": "stdout"
        }
      ]
    },
    {
      "cell_type": "code",
      "metadata": {
        "id": "Ei-092av1vtF",
        "colab_type": "code",
        "colab": {
          "base_uri": "https://localhost:8080/",
          "height": 51
        },
        "outputId": "c364731b-d396-4e79-8380-626eb57aea71"
      },
      "source": [
        "print(\"X_test shape: {}\".format(X_test.shape))\n",
        "print(\"y_test shape: {}\".format(y_test.shape))"
      ],
      "execution_count": 9,
      "outputs": [
        {
          "output_type": "stream",
          "text": [
            "X_test shape: (38, 4)\n",
            "y_test shape: (38,)\n"
          ],
          "name": "stdout"
        }
      ]
    },
    {
      "cell_type": "markdown",
      "metadata": {
        "id": "swNFD3VRYBsE",
        "colab_type": "text"
      },
      "source": [
        "## SVM\n",
        "### ハイパーパラメータ\n",
        "#### パラメータC\n",
        "学習時に分類の誤りをどの程度許容するかを指定します。\n",
        "非線形の場合はソフトマージンのペナルティといいます。\n",
        "\n",
        "#### パラメータKernel\n",
        "* linear : LinearSVC\n",
        "* rbf :デフォルト\n",
        "* poly\n",
        "* sigmoid\n",
        "* precomputed\n",
        "kernel\n",
        "\n",
        "基本的に使うのは、線形カーネルの Linear と、 非線形カーネルの rbf の二種類。ちなみに、 Linear にすると直線で、データを分け、 rbf にすると、より曲線的で、複雑な線でデータを分ける。\n",
        "\n",
        "gamma\n",
        "これは、線に近い方の点か線から遠い方の点、どちらを重要視するかを決める。つまり、値を大きくすると、近くの点との margin を重要視して、その結果、線は複雑になる。\n",
        "\n"
      ]
    },
    {
      "cell_type": "code",
      "metadata": {
        "id": "OGI9yWyDpehH",
        "colab_type": "code",
        "colab": {}
      },
      "source": [
        "from sklearn.svm import SVC\n",
        "svc = SVC(C=1.0, gamma=0.1, kernel='linear')"
      ],
      "execution_count": 10,
      "outputs": []
    },
    {
      "cell_type": "code",
      "metadata": {
        "id": "jX0FG00MMwJt",
        "colab_type": "code",
        "colab": {
          "base_uri": "https://localhost:8080/",
          "height": 85
        },
        "outputId": "24535c2b-07b9-4c9e-a722-cde8d020a0fc"
      },
      "source": [
        "svc.fit(X_train,y_train)"
      ],
      "execution_count": 11,
      "outputs": [
        {
          "output_type": "execute_result",
          "data": {
            "text/plain": [
              "SVC(C=1.0, break_ties=False, cache_size=200, class_weight=None, coef0=0.0,\n",
              "    decision_function_shape='ovr', degree=3, gamma=0.1, kernel='linear',\n",
              "    max_iter=-1, probability=False, random_state=None, shrinking=True,\n",
              "    tol=0.001, verbose=False)"
            ]
          },
          "metadata": {
            "tags": []
          },
          "execution_count": 11
        }
      ]
    },
    {
      "cell_type": "markdown",
      "metadata": {
        "id": "MEjQjcjR9mjR",
        "colab_type": "text"
      },
      "source": [
        "### モデルをテストして精度を確認する"
      ]
    },
    {
      "cell_type": "code",
      "metadata": {
        "id": "j-vZGKH1OmPD",
        "colab_type": "code",
        "colab": {
          "base_uri": "https://localhost:8080/",
          "height": 68
        },
        "outputId": "4fb2a0b8-fced-445b-eda0-751e0a573a71"
      },
      "source": [
        "y_pred = svc.predict(X_test)\n",
        "print(\"Test set predictions: \\n {}\".format(y_pred))"
      ],
      "execution_count": 12,
      "outputs": [
        {
          "output_type": "stream",
          "text": [
            "Test set predictions: \n",
            " [2 1 0 2 0 2 0 1 1 1 2 1 1 1 1 0 1 1 0 0 2 1 0 0 2 0 0 1 1 0 2 1 0 2 2 1 0\n",
            " 2]\n"
          ],
          "name": "stdout"
        }
      ]
    },
    {
      "cell_type": "markdown",
      "metadata": {
        "id": "3CCpROHBl0Or",
        "colab_type": "text"
      },
      "source": [
        " ### 精度計算"
      ]
    },
    {
      "cell_type": "code",
      "metadata": {
        "id": "ZtpAkwP1Zmqh",
        "colab_type": "code",
        "colab": {
          "base_uri": "https://localhost:8080/",
          "height": 34
        },
        "outputId": "4e5b04e5-9b1a-4f12-8316-64913da59c3f"
      },
      "source": [
        "print(\"Train set score: {:.2f}\".format(svc.score(X_train,y_train)))"
      ],
      "execution_count": 13,
      "outputs": [
        {
          "output_type": "stream",
          "text": [
            "Train set score: 0.98\n"
          ],
          "name": "stdout"
        }
      ]
    },
    {
      "cell_type": "code",
      "metadata": {
        "id": "5G7kNFSVPXXY",
        "colab_type": "code",
        "colab": {
          "base_uri": "https://localhost:8080/",
          "height": 34
        },
        "outputId": "3ba1d173-3f89-4241-8414-45918fe39fdf"
      },
      "source": [
        "print(\"Test set score: {:.2f}\".format(svc.score(X_test,y_test)))"
      ],
      "execution_count": 14,
      "outputs": [
        {
          "output_type": "stream",
          "text": [
            "Test set score: 0.97\n"
          ],
          "name": "stdout"
        }
      ]
    },
    {
      "cell_type": "markdown",
      "metadata": {
        "id": "SHj1aQ6c540-",
        "colab_type": "text"
      },
      "source": [
        "## 予測\n",
        "野生のアイリスを見つけてガクと花弁の長さと幅を調べてその品種を予測する。\n",
        "\n",
        "* ガクの長さ : 5センチ\n",
        "* ガクの幅 : 2.9センチ\n",
        "* 花弁の長さ : 1センチ\n",
        "* 花弁の幅 : 0.2センチ"
      ]
    },
    {
      "cell_type": "code",
      "metadata": {
        "id": "M1tRXhrYNLze",
        "colab_type": "code",
        "colab": {
          "base_uri": "https://localhost:8080/",
          "height": 34
        },
        "outputId": "c9c4f76d-3852-4dc7-88fd-14cec2fe62fc"
      },
      "source": [
        "X_new = np.array([[5,2.9,1,0.2]])\n",
        "print(\"X_new.shape:{}\".format(X_new.shape))"
      ],
      "execution_count": 15,
      "outputs": [
        {
          "output_type": "stream",
          "text": [
            "X_new.shape:(1, 4)\n"
          ],
          "name": "stdout"
        }
      ]
    },
    {
      "cell_type": "code",
      "metadata": {
        "id": "2ZCcHVawN0No",
        "colab_type": "code",
        "colab": {
          "base_uri": "https://localhost:8080/",
          "height": 51
        },
        "outputId": "2dd2c00c-ea00-4c1f-ecb5-6111f61f727b"
      },
      "source": [
        "prediction = svc.predict(X_new)\n",
        "print(\"Prediction: {}\".format(prediction))\n",
        "print(\"Predicted target name: {}\".format(iris_dataset['target_names'][prediction]))"
      ],
      "execution_count": 16,
      "outputs": [
        {
          "output_type": "stream",
          "text": [
            "Prediction: [0]\n",
            "Predicted target name: ['setosa']\n"
          ],
          "name": "stdout"
        }
      ]
    },
    {
      "cell_type": "code",
      "metadata": {
        "id": "M-WbiCMjDFKI",
        "colab_type": "code",
        "colab": {}
      },
      "source": [
        ""
      ],
      "execution_count": null,
      "outputs": []
    }
  ]
}
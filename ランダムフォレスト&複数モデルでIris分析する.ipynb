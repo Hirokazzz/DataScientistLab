{
  "nbformat": 4,
  "nbformat_minor": 0,
  "metadata": {
    "colab": {
      "name": "ランダムフォレスト&複数モデルでIris分析する.ipynb",
      "provenance": [],
      "collapsed_sections": [],
      "include_colab_link": true
    },
    "kernelspec": {
      "name": "python3",
      "display_name": "Python 3"
    }
  },
  "cells": [
    {
      "cell_type": "markdown",
      "metadata": {
        "id": "view-in-github",
        "colab_type": "text"
      },
      "source": [
        "<a href=\"https://colab.research.google.com/github/Hirokazzz/DataScientistLab/blob/master/%E3%83%A9%E3%83%B3%E3%83%80%E3%83%A0%E3%83%95%E3%82%A9%E3%83%AC%E3%82%B9%E3%83%88%26%E8%A4%87%E6%95%B0%E3%83%A2%E3%83%86%E3%82%99%E3%83%AB%E3%81%A7Iris%E5%88%86%E6%9E%90%E3%81%99%E3%82%8B.ipynb\" target=\"_parent\"><img src=\"https://colab.research.google.com/assets/colab-badge.svg\" alt=\"Open In Colab\"/></a>"
      ]
    },
    {
      "cell_type": "markdown",
      "metadata": {
        "id": "2rAYlYssd3DQ",
        "colab_type": "text"
      },
      "source": [
        "参考文献：東京大学のデータサイエンティスト育成講座\n",
        "\n",
        "### アイリスのクラス分類 ランダムフォレスト＆複数モデル\n"
      ]
    },
    {
      "cell_type": "code",
      "metadata": {
        "id": "ze_WyvKleTBM",
        "colab_type": "code",
        "colab": {}
      },
      "source": [
        "# ライブラリの読み込み\n",
        "import numpy as np\n",
        "from scipy import sparse\n",
        "import matplotlib.pyplot as plt\n",
        "import pandas as pd\n",
        "from IPython.display import display\n",
        "import sys\n",
        "from sklearn.datasets import make_classification"
      ],
      "execution_count": null,
      "outputs": []
    },
    {
      "cell_type": "code",
      "metadata": {
        "id": "lbenrUCIfakB",
        "colab_type": "code",
        "colab": {}
      },
      "source": [
        "#scikitlearnからIrisデータを読み込む\n",
        "from sklearn.datasets import load_iris\n",
        "iris_dataset = load_iris()"
      ],
      "execution_count": null,
      "outputs": []
    },
    {
      "cell_type": "code",
      "metadata": {
        "id": "XvRgW1Kth07V",
        "colab_type": "code",
        "colab": {
          "base_uri": "https://localhost:8080/",
          "height": 119
        },
        "outputId": "fe2d22c0-4d6c-4139-9658-c6042694b68a"
      },
      "source": [
        "print(\"5件だけデータ表示: \\n{}\".format(iris_dataset['data'][:5]))"
      ],
      "execution_count": null,
      "outputs": [
        {
          "output_type": "stream",
          "text": [
            "5件だけデータ表示: \n",
            "[[5.1 3.5 1.4 0.2]\n",
            " [4.9 3.  1.4 0.2]\n",
            " [4.7 3.2 1.3 0.2]\n",
            " [4.6 3.1 1.5 0.2]\n",
            " [5.  3.6 1.4 0.2]]\n"
          ],
          "name": "stdout"
        }
      ]
    },
    {
      "cell_type": "code",
      "metadata": {
        "id": "Yd-IMz3KyGFE",
        "colab_type": "code",
        "colab": {
          "base_uri": "https://localhost:8080/",
          "height": 34
        },
        "outputId": "f9986958-3c88-431c-cdd9-afa48fc5ec43"
      },
      "source": [
        "#データサイズの確認\n",
        "print(\"Shape of data: {}\".format(iris_dataset['data'].shape))"
      ],
      "execution_count": null,
      "outputs": [
        {
          "output_type": "stream",
          "text": [
            "Shape of data: (150, 4)\n"
          ],
          "name": "stdout"
        }
      ]
    },
    {
      "cell_type": "markdown",
      "metadata": {
        "id": "REldsw2BUlaL",
        "colab_type": "text"
      },
      "source": [
        "### 訓練データとテストデータの分離\n"
      ]
    },
    {
      "cell_type": "code",
      "metadata": {
        "id": "9wewP1dc0Dp1",
        "colab_type": "code",
        "colab": {}
      },
      "source": [
        "from sklearn.model_selection import train_test_split\n",
        "X_train,X_test,y_train,y_test = train_test_split(\n",
        "  iris_dataset['data'],iris_dataset['target'],random_state=0\n",
        ")"
      ],
      "execution_count": null,
      "outputs": []
    },
    {
      "cell_type": "code",
      "metadata": {
        "id": "AJGQNmT42SVn",
        "colab_type": "code",
        "colab": {}
      },
      "source": [
        "#クラスタリング各モデルの読み込み\n",
        "from sklearn.linear_model import LogisticRegression\n",
        "from sklearn.svm import LinearSVC\n",
        "from sklearn.svm import SVC\n",
        "from sklearn.ensemble import RandomForestClassifier\n",
        "from sklearn.neighbors import KNeighborsClassifier\n",
        "from sklearn.tree import DecisionTreeClassifier"
      ],
      "execution_count": null,
      "outputs": []
    },
    {
      "cell_type": "markdown",
      "metadata": {
        "id": "MEjQjcjR9mjR",
        "colab_type": "text"
      },
      "source": [
        "### モデルをテストして精度を確認する"
      ]
    },
    {
      "cell_type": "code",
      "metadata": {
        "id": "AiQXiUY6gfPr",
        "colab_type": "code",
        "colab": {
          "base_uri": "https://localhost:8080/",
          "height": 221
        },
        "outputId": "a2102423-0f26-4461-9828-f18a14768072"
      },
      "source": [
        "model_list = {'非線形SVM':SVC(gamma=\"scale\"),\n",
        "              '決定木':DecisionTreeClassifier(random_state=0),\n",
        "              'ランダムフォレスト':RandomForestClassifier(100),\n",
        "              'k-近傍法':KNeighborsClassifier(n_neighbors=1)}\n",
        "\n",
        "for model_name,model in model_list.items():\n",
        "  model.fit(X_train,y_train)\n",
        "  print(model_name)\n",
        "  print('正解率:'+str(model.score(X_train,y_train)))\n",
        "  print('正解率2:'+str(model.score(X_test,y_test)))\n",
        "  "
      ],
      "execution_count": null,
      "outputs": [
        {
          "output_type": "stream",
          "text": [
            "非線形SVM\n",
            "正解率:0.9642857142857143\n",
            "正解率2:0.9736842105263158\n",
            "決定木\n",
            "正解率:1.0\n",
            "正解率2:0.9736842105263158\n",
            "ランダムフォレスト\n",
            "正解率:1.0\n",
            "正解率2:0.9736842105263158\n",
            "k-近傍法\n",
            "正解率:1.0\n",
            "正解率2:0.9736842105263158\n"
          ],
          "name": "stdout"
        }
      ]
    }
  ]
}
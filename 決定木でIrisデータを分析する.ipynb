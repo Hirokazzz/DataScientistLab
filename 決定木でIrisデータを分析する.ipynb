{
  "nbformat": 4,
  "nbformat_minor": 0,
  "metadata": {
    "colab": {
      "name": "決定木でIrisデータを分析する.ipynb",
      "provenance": [],
      "collapsed_sections": [],
      "include_colab_link": true
    },
    "kernelspec": {
      "name": "python3",
      "display_name": "Python 3"
    }
  },
  "cells": [
    {
      "cell_type": "markdown",
      "metadata": {
        "id": "view-in-github",
        "colab_type": "text"
      },
      "source": [
        "<a href=\"https://colab.research.google.com/github/Hirokazzz/DataScientistLab/blob/master/%E6%B1%BA%E5%AE%9A%E6%9C%A8%E3%81%A7Iris%E3%83%87%E3%83%BC%E3%82%BF%E3%82%92%E5%88%86%E6%9E%90%E3%81%99%E3%82%8B.ipynb\" target=\"_parent\"><img src=\"https://colab.research.google.com/assets/colab-badge.svg\" alt=\"Open In Colab\"/></a>"
      ]
    },
    {
      "cell_type": "markdown",
      "metadata": {
        "id": "2rAYlYssd3DQ",
        "colab_type": "text"
      },
      "source": [
        "参考文献：東京大学のデータサイエンティスト育成講座\n",
        "\n",
        "### アイリスのクラス分類(決定木)\n",
        "\n",
        "アイリスの花弁の長さと幅、ガクの長さと幅をセンチメートル単位で観測してアイリスの分類を行います。"
      ]
    },
    {
      "cell_type": "code",
      "metadata": {
        "id": "ze_WyvKleTBM",
        "colab_type": "code",
        "colab": {}
      },
      "source": [
        "# ライブラリの読み込み\n",
        "import numpy as np\n",
        "from scipy import sparse\n",
        "import matplotlib.pyplot as plt\n",
        "import pandas as pd\n",
        "from IPython.display import display\n",
        "import sys"
      ],
      "execution_count": 1,
      "outputs": []
    },
    {
      "cell_type": "markdown",
      "metadata": {
        "id": "NlcdPC5O5AIl",
        "colab_type": "text"
      },
      "source": [
        "### データの読み込み\n",
        "irisのデータセットはsklearn.datasetsから読み込む"
      ]
    },
    {
      "cell_type": "code",
      "metadata": {
        "id": "lbenrUCIfakB",
        "colab_type": "code",
        "colab": {}
      },
      "source": [
        "from sklearn.datasets import load_iris\n",
        "iris_dataset = load_iris()"
      ],
      "execution_count": 2,
      "outputs": []
    },
    {
      "cell_type": "markdown",
      "metadata": {
        "id": "ASnPm74I9rjq",
        "colab_type": "text"
      },
      "source": [
        "読み込んだデータはBunchクラスのオブジェクトであり、辞書と同じ形式のオブジェクトでキーと値を持つ。\n",
        "\n",
        "iris_dataset.keys()でキーの一覧を確認できる。"
      ]
    },
    {
      "cell_type": "code",
      "metadata": {
        "id": "K8uoW3_Zfx07",
        "colab_type": "code",
        "colab": {
          "base_uri": "https://localhost:8080/",
          "height": 51
        },
        "outputId": "0fc070ce-9d72-4883-92f7-f0c9070a34a9"
      },
      "source": [
        "print(\"key of iris_dataset: \\n{}\".format(iris_dataset.keys()))"
      ],
      "execution_count": 4,
      "outputs": [
        {
          "output_type": "stream",
          "text": [
            "key of iris_dataset: \n",
            "dict_keys(['data', 'target', 'target_names', 'DESCR', 'feature_names', 'filename'])\n"
          ],
          "name": "stdout"
        }
      ]
    },
    {
      "cell_type": "markdown",
      "metadata": {
        "id": "twbr8jTJAIGh",
        "colab_type": "text"
      },
      "source": [
        "### データ詳細の確認"
      ]
    },
    {
      "cell_type": "code",
      "metadata": {
        "id": "X2WH1tiHQFZI",
        "colab_type": "code",
        "colab": {
          "base_uri": "https://localhost:8080/",
          "height": 1000
        },
        "outputId": "459b7191-1e39-43b2-a9ef-2f9cf663eeb6"
      },
      "source": [
        "# classはIris-Setosa　、Iris-Versicolour、 Iris-Virginicaだとわかる\n",
        "print(iris_dataset.DESCR) "
      ],
      "execution_count": 5,
      "outputs": [
        {
          "output_type": "stream",
          "text": [
            ".. _iris_dataset:\n",
            "\n",
            "Iris plants dataset\n",
            "--------------------\n",
            "\n",
            "**Data Set Characteristics:**\n",
            "\n",
            "    :Number of Instances: 150 (50 in each of three classes)\n",
            "    :Number of Attributes: 4 numeric, predictive attributes and the class\n",
            "    :Attribute Information:\n",
            "        - sepal length in cm\n",
            "        - sepal width in cm\n",
            "        - petal length in cm\n",
            "        - petal width in cm\n",
            "        - class:\n",
            "                - Iris-Setosa\n",
            "                - Iris-Versicolour\n",
            "                - Iris-Virginica\n",
            "                \n",
            "    :Summary Statistics:\n",
            "\n",
            "    ============== ==== ==== ======= ===== ====================\n",
            "                    Min  Max   Mean    SD   Class Correlation\n",
            "    ============== ==== ==== ======= ===== ====================\n",
            "    sepal length:   4.3  7.9   5.84   0.83    0.7826\n",
            "    sepal width:    2.0  4.4   3.05   0.43   -0.4194\n",
            "    petal length:   1.0  6.9   3.76   1.76    0.9490  (high!)\n",
            "    petal width:    0.1  2.5   1.20   0.76    0.9565  (high!)\n",
            "    ============== ==== ==== ======= ===== ====================\n",
            "\n",
            "    :Missing Attribute Values: None\n",
            "    :Class Distribution: 33.3% for each of 3 classes.\n",
            "    :Creator: R.A. Fisher\n",
            "    :Donor: Michael Marshall (MARSHALL%PLU@io.arc.nasa.gov)\n",
            "    :Date: July, 1988\n",
            "\n",
            "The famous Iris database, first used by Sir R.A. Fisher. The dataset is taken\n",
            "from Fisher's paper. Note that it's the same as in R, but not as in the UCI\n",
            "Machine Learning Repository, which has two wrong data points.\n",
            "\n",
            "This is perhaps the best known database to be found in the\n",
            "pattern recognition literature.  Fisher's paper is a classic in the field and\n",
            "is referenced frequently to this day.  (See Duda & Hart, for example.)  The\n",
            "data set contains 3 classes of 50 instances each, where each class refers to a\n",
            "type of iris plant.  One class is linearly separable from the other 2; the\n",
            "latter are NOT linearly separable from each other.\n",
            "\n",
            ".. topic:: References\n",
            "\n",
            "   - Fisher, R.A. \"The use of multiple measurements in taxonomic problems\"\n",
            "     Annual Eugenics, 7, Part II, 179-188 (1936); also in \"Contributions to\n",
            "     Mathematical Statistics\" (John Wiley, NY, 1950).\n",
            "   - Duda, R.O., & Hart, P.E. (1973) Pattern Classification and Scene Analysis.\n",
            "     (Q327.D83) John Wiley & Sons.  ISBN 0-471-22361-1.  See page 218.\n",
            "   - Dasarathy, B.V. (1980) \"Nosing Around the Neighborhood: A New System\n",
            "     Structure and Classification Rule for Recognition in Partially Exposed\n",
            "     Environments\".  IEEE Transactions on Pattern Analysis and Machine\n",
            "     Intelligence, Vol. PAMI-2, No. 1, 67-71.\n",
            "   - Gates, G.W. (1972) \"The Reduced Nearest Neighbor Rule\".  IEEE Transactions\n",
            "     on Information Theory, May 1972, 431-433.\n",
            "   - See also: 1988 MLC Proceedings, 54-64.  Cheeseman et al\"s AUTOCLASS II\n",
            "     conceptual clustering system finds 3 classes in the data.\n",
            "   - Many, many more ...\n"
          ],
          "name": "stdout"
        }
      ]
    },
    {
      "cell_type": "markdown",
      "metadata": {
        "id": "F021WLqd_QLq",
        "colab_type": "text"
      },
      "source": [
        "#### 求めたいアイリスの種類の確認\n",
        "target_nameには予測しようとしている花の名前が入っている。\n",
        "\n",
        "花の種類は3種類で「setosa」、 「versicolor」、「virginica」であることがわかる。"
      ]
    },
    {
      "cell_type": "code",
      "metadata": {
        "id": "6Y6ZKU-vggH-",
        "colab_type": "code",
        "colab": {
          "base_uri": "https://localhost:8080/",
          "height": 34
        },
        "outputId": "3bda2697-b9a4-40d0-eddf-c315e6ca5dce"
      },
      "source": [
        "print(\"アイリスの種類: {}\".format(iris_dataset['target_names']))"
      ],
      "execution_count": 6,
      "outputs": [
        {
          "output_type": "stream",
          "text": [
            "アイリスの種類: ['setosa' 'versicolor' 'virginica']\n"
          ],
          "name": "stdout"
        }
      ]
    },
    {
      "cell_type": "markdown",
      "metadata": {
        "id": "eCMApox0AbHU",
        "colab_type": "text"
      },
      "source": [
        "#### 特徴量の名前とデータの確認\n",
        "どのようなデータがどのような順番で入っているか確認するには iris_dataset['feature_names']で取得\n",
        "\n",
        "* 「sepal length (cm)」:ガクの長さ\n",
        "*「sepal width (cm)」 :ガクの幅\n",
        "*「petal length (cm)」:花弁の長さ\n",
        "*「petal width (cm)」:花弁の幅\n",
        "\n",
        "それぞれの個別の値を一部確認するには iris_dataset['data'][:5]で取得。[:5]の5の値を変更すると、その数だけ確認できます。  \n",
        "全て確認する場合は、iris_dataset['data'] で取得できます。"
      ]
    },
    {
      "cell_type": "code",
      "metadata": {
        "id": "T3ZY32DphhyT",
        "colab_type": "code",
        "colab": {
          "base_uri": "https://localhost:8080/",
          "height": 34
        },
        "outputId": "e2c656f4-6834-455b-e7fd-e33a6c67104f"
      },
      "source": [
        "print(\"特徴量の名前: {}\".format(iris_dataset['feature_names']))"
      ],
      "execution_count": 7,
      "outputs": [
        {
          "output_type": "stream",
          "text": [
            "特徴量の名前: ['sepal length (cm)', 'sepal width (cm)', 'petal length (cm)', 'petal width (cm)']\n"
          ],
          "name": "stdout"
        }
      ]
    },
    {
      "cell_type": "code",
      "metadata": {
        "id": "XvRgW1Kth07V",
        "colab_type": "code",
        "colab": {
          "base_uri": "https://localhost:8080/",
          "height": 119
        },
        "outputId": "9f0ea1e3-8c9e-4b3a-f865-7bbf9d81430e"
      },
      "source": [
        "print(\"5件だけデータ表示: \\n{}\".format(iris_dataset['data'][:5]))"
      ],
      "execution_count": 8,
      "outputs": [
        {
          "output_type": "stream",
          "text": [
            "5件だけデータ表示: \n",
            "[[5.1 3.5 1.4 0.2]\n",
            " [4.9 3.  1.4 0.2]\n",
            " [4.7 3.2 1.3 0.2]\n",
            " [4.6 3.1 1.5 0.2]\n",
            " [5.  3.6 1.4 0.2]]\n"
          ],
          "name": "stdout"
        }
      ]
    },
    {
      "cell_type": "markdown",
      "metadata": {
        "id": "_cM7lqCNEA6k",
        "colab_type": "text"
      },
      "source": [
        "何行何列の行列になっているかはshapeで確認できます。\n",
        "\n",
        "データが150用意されて、特徴量が4種類あることがわかる。"
      ]
    },
    {
      "cell_type": "code",
      "metadata": {
        "id": "Yd-IMz3KyGFE",
        "colab_type": "code",
        "colab": {
          "base_uri": "https://localhost:8080/",
          "height": 34
        },
        "outputId": "324dcb58-6fab-49b9-965a-efc1030aaa6c"
      },
      "source": [
        "print(\"Shape of data: {}\".format(iris_dataset['data'].shape))"
      ],
      "execution_count": 9,
      "outputs": [
        {
          "output_type": "stream",
          "text": [
            "Shape of data: (150, 4)\n"
          ],
          "name": "stdout"
        }
      ]
    },
    {
      "cell_type": "markdown",
      "metadata": {
        "id": "5242zTbuVFeY",
        "colab_type": "text"
      },
      "source": [
        "#### データ分布の状態を確認\n",
        "targetはラベル（アイリスの種類を数値化した値）を見ることができます。  \n",
        "これがつまり教師データになるものです。\n",
        "\n",
        "ラベルを表示してみると0から2まで3種類のアイリスのデータがグループ分けされた状態になって格納されていることがわかります。\n",
        "\n",
        "訓練データとテストデータを分割する場合このようなデータの並びになっていると、偏った学習をすることになります。そのため、ランダムにデータを分ける必要が出てきます。"
      ]
    },
    {
      "cell_type": "code",
      "metadata": {
        "id": "uRcN2gFly9UQ",
        "colab_type": "code",
        "colab": {
          "base_uri": "https://localhost:8080/",
          "height": 119
        },
        "outputId": "abe67a71-4633-4b99-f88b-ce01b32ba12e"
      },
      "source": [
        "print(\"Target:\\n{}\".format(iris_dataset['target']))"
      ],
      "execution_count": 10,
      "outputs": [
        {
          "output_type": "stream",
          "text": [
            "Target:\n",
            "[0 0 0 0 0 0 0 0 0 0 0 0 0 0 0 0 0 0 0 0 0 0 0 0 0 0 0 0 0 0 0 0 0 0 0 0 0\n",
            " 0 0 0 0 0 0 0 0 0 0 0 0 0 1 1 1 1 1 1 1 1 1 1 1 1 1 1 1 1 1 1 1 1 1 1 1 1\n",
            " 1 1 1 1 1 1 1 1 1 1 1 1 1 1 1 1 1 1 1 1 1 1 1 1 1 1 2 2 2 2 2 2 2 2 2 2 2\n",
            " 2 2 2 2 2 2 2 2 2 2 2 2 2 2 2 2 2 2 2 2 2 2 2 2 2 2 2 2 2 2 2 2 2 2 2 2 2\n",
            " 2 2]\n"
          ],
          "name": "stdout"
        }
      ]
    },
    {
      "cell_type": "code",
      "metadata": {
        "id": "PUHEMS8QoOvE",
        "colab_type": "code",
        "colab": {
          "base_uri": "https://localhost:8080/",
          "height": 34
        },
        "outputId": "0853dfd8-7e5a-4f79-b2f2-1a6dcfbcd62b"
      },
      "source": [
        "iris_dataset['target'].shape"
      ],
      "execution_count": 11,
      "outputs": [
        {
          "output_type": "execute_result",
          "data": {
            "text/plain": [
              "(150,)"
            ]
          },
          "metadata": {
            "tags": []
          },
          "execution_count": 11
        }
      ]
    },
    {
      "cell_type": "markdown",
      "metadata": {
        "id": "REldsw2BUlaL",
        "colab_type": "text"
      },
      "source": [
        "### 訓練データとテストデータの分離\n"
      ]
    },
    {
      "cell_type": "code",
      "metadata": {
        "id": "9wewP1dc0Dp1",
        "colab_type": "code",
        "colab": {}
      },
      "source": [
        "from sklearn.model_selection import train_test_split\n",
        "X_train,X_test,y_train,y_test = train_test_split(\n",
        "  iris_dataset['data'],iris_dataset['target'],random_state=0\n",
        ")"
      ],
      "execution_count": 12,
      "outputs": []
    },
    {
      "cell_type": "markdown",
      "metadata": {
        "id": "0y4Xc3cIW1x4",
        "colab_type": "text"
      },
      "source": [
        "分離取得したデータの配列の形状を確認します。"
      ]
    },
    {
      "cell_type": "code",
      "metadata": {
        "id": "lH5IXNcG1Flq",
        "colab_type": "code",
        "colab": {
          "base_uri": "https://localhost:8080/",
          "height": 51
        },
        "outputId": "032fa57c-b059-4614-9666-bb39ef3217b9"
      },
      "source": [
        "print(\"X_train shape: {}\".format(X_train.shape))\n",
        "print(\"y_train shape: {}\".format(y_train.shape))"
      ],
      "execution_count": 13,
      "outputs": [
        {
          "output_type": "stream",
          "text": [
            "X_train shape: (112, 4)\n",
            "y_train shape: (112,)\n"
          ],
          "name": "stdout"
        }
      ]
    },
    {
      "cell_type": "code",
      "metadata": {
        "id": "Ei-092av1vtF",
        "colab_type": "code",
        "colab": {
          "base_uri": "https://localhost:8080/",
          "height": 51
        },
        "outputId": "ef26cf68-6f73-4a8e-bca7-f2a38158062b"
      },
      "source": [
        "print(\"X_test shape: {}\".format(X_test.shape))\n",
        "print(\"y_test shape: {}\".format(y_test.shape))"
      ],
      "execution_count": 14,
      "outputs": [
        {
          "output_type": "stream",
          "text": [
            "X_test shape: (38, 4)\n",
            "y_test shape: (38,)\n"
          ],
          "name": "stdout"
        }
      ]
    },
    {
      "cell_type": "markdown",
      "metadata": {
        "id": "-HyEHKE2zcq_",
        "colab_type": "text"
      },
      "source": [
        "### 決定木\n",
        "ハイパーパラメータ\n",
        "- max-depth:木の高さを制限します。（枝刈り）指定しないと過学習になります。\n",
        "- random_state:決定木を分類する値を決めると共に学習結果を保持するための乱数を作成するもの。\n",
        "- criterion: gini、entropyを指定します。"
      ]
    },
    {
      "cell_type": "code",
      "metadata": {
        "id": "DVUtS0XSEow4",
        "colab_type": "code",
        "colab": {}
      },
      "source": [
        "from sklearn.tree import DecisionTreeClassifier\n",
        "\n",
        "depth_list = [i for i in range(1, 11)]\n",
        "accuracy = []"
      ],
      "execution_count": 17,
      "outputs": []
    },
    {
      "cell_type": "code",
      "metadata": {
        "id": "u54r4mjwzvJy",
        "colab_type": "code",
        "colab": {
          "base_uri": "https://localhost:8080/",
          "height": 296
        },
        "outputId": "ea77cf13-a632-41b2-a6d7-cdd69220144a"
      },
      "source": [
        "#max-depthの指定を複数の値で指定\n",
        "for depth in range(1,11):\n",
        "  model = DecisionTreeClassifier(max_depth = depth,random_state=0,criterion=\"gini\")\n",
        "  model.fit(X_train,y_train)\n",
        "  accuracy.append(model.score(X_test,y_test))\n",
        "\n",
        "#可視化\n",
        "plt.plot(depth_list,accuracy)\n",
        "plt.xlabel('max_depth')\n",
        "plt.ylabel('accuracy')\n",
        "plt.title('accuracy by changeing max_depth')\n",
        "plt.show()"
      ],
      "execution_count": 18,
      "outputs": [
        {
          "output_type": "display_data",
          "data": {
            "image/png": "[encoded data removed]",
            "text/plain": [
              "<Figure size 432x288 with 1 Axes>"
            ]
          },
          "metadata": {
            "tags": [],
            "needs_background": "light"
          }
        }
      ]
    },
    {
      "cell_type": "code",
      "metadata": {
        "id": "985JlJYhz_Sa",
        "colab_type": "code",
        "colab": {
          "base_uri": "https://localhost:8080/",
          "height": 119
        },
        "outputId": "68a181f0-f63e-46b0-efac-86607443286d"
      },
      "source": [
        "model = DecisionTreeClassifier(max_depth=4,random_state=0,criterion=\"gini\")\n",
        "model.fit(X_train,y_train)"
      ],
      "execution_count": 19,
      "outputs": [
        {
          "output_type": "execute_result",
          "data": {
            "text/plain": [
              "DecisionTreeClassifier(ccp_alpha=0.0, class_weight=None, criterion='gini',\n",
              "                       max_depth=4, max_features=None, max_leaf_nodes=None,\n",
              "                       min_impurity_decrease=0.0, min_impurity_split=None,\n",
              "                       min_samples_leaf=1, min_samples_split=2,\n",
              "                       min_weight_fraction_leaf=0.0, presort='deprecated',\n",
              "                       random_state=0, splitter='best')"
            ]
          },
          "metadata": {
            "tags": []
          },
          "execution_count": 19
        }
      ]
    },
    {
      "cell_type": "code",
      "metadata": {
        "id": "9b6HlMTX0Kww",
        "colab_type": "code",
        "colab": {
          "base_uri": "https://localhost:8080/",
          "height": 68
        },
        "outputId": "61903c3b-a8b9-4fdf-f84f-2641c26b49c0"
      },
      "source": [
        "y_pred = model.predict(X_test)\n",
        "print(\"Test set predictions: \\n {}\".format(y_pred))"
      ],
      "execution_count": 20,
      "outputs": [
        {
          "output_type": "stream",
          "text": [
            "Test set predictions: \n",
            " [2 1 0 2 0 2 0 1 1 1 2 1 1 1 1 0 1 1 0 0 2 1 0 0 2 0 0 1 1 0 2 1 0 2 2 1 0\n",
            " 2]\n"
          ],
          "name": "stdout"
        }
      ]
    },
    {
      "cell_type": "code",
      "metadata": {
        "id": "1gif9MMX0NZS",
        "colab_type": "code",
        "colab": {
          "base_uri": "https://localhost:8080/",
          "height": 34
        },
        "outputId": "e4f17d2c-ba2d-4dcc-867e-eb034fffd372"
      },
      "source": [
        "print(\"Train set score: {:.2f}\".format(model.score(X_train,y_train)))"
      ],
      "execution_count": 21,
      "outputs": [
        {
          "output_type": "stream",
          "text": [
            "Train set score: 1.00\n"
          ],
          "name": "stdout"
        }
      ]
    },
    {
      "cell_type": "code",
      "metadata": {
        "id": "h8EDU_0z0P-N",
        "colab_type": "code",
        "colab": {
          "base_uri": "https://localhost:8080/",
          "height": 34
        },
        "outputId": "5b1a3ed0-570a-4ae1-8473-e12ca8811e1a"
      },
      "source": [
        "print(\"Test set score: {:.2f}\".format(model.score(X_test,y_test)))"
      ],
      "execution_count": 22,
      "outputs": [
        {
          "output_type": "stream",
          "text": [
            "Test set score: 0.97\n"
          ],
          "name": "stdout"
        }
      ]
    },
    {
      "cell_type": "markdown",
      "metadata": {
        "id": "hm8m1vgu0YXS",
        "colab_type": "text"
      },
      "source": [
        "### 予測\n",
        "野生のアイリスを見つけてガクと花弁の長さと幅を調べてその品種を予測する。\n",
        "\n",
        "* ガクの長さ : 5センチ\n",
        "* ガクの幅 : 2.9センチ\n",
        "* 花弁の長さ : 1センチ\n",
        "* 花弁の幅 : 0.2センチ"
      ]
    },
    {
      "cell_type": "code",
      "metadata": {
        "id": "ouxtdjvP0S37",
        "colab_type": "code",
        "colab": {
          "base_uri": "https://localhost:8080/",
          "height": 34
        },
        "outputId": "bad5ca8f-abe2-435b-e3e8-25d3a00ad0f4"
      },
      "source": [
        "#お題の数値を配列にする\n",
        "X_new = np.array([[5,2.9,1,0.2]])\n",
        "print(\"X_new.shape:{}\".format(X_new.shape))"
      ],
      "execution_count": 23,
      "outputs": [
        {
          "output_type": "stream",
          "text": [
            "X_new.shape:(1, 4)\n"
          ],
          "name": "stdout"
        }
      ]
    },
    {
      "cell_type": "code",
      "metadata": {
        "id": "2m-1eWRG0h6Q",
        "colab_type": "code",
        "colab": {
          "base_uri": "https://localhost:8080/",
          "height": 51
        },
        "outputId": "1754a170-7e5c-455a-cc79-2e37d78b2702"
      },
      "source": [
        "#モデルに入れてみる\n",
        "prediction = model.predict(X_new)\n",
        "print(\"Prediction: {}\".format(prediction))\n",
        "print(\"Predicted target name: {}\".format(iris_dataset['target_names'][prediction]))"
      ],
      "execution_count": 24,
      "outputs": [
        {
          "output_type": "stream",
          "text": [
            "Prediction: [0]\n",
            "Predicted target name: ['setosa']\n"
          ],
          "name": "stdout"
        }
      ]
    },
    {
      "cell_type": "code",
      "metadata": {
        "id": "t42zmtWd0j_3",
        "colab_type": "code",
        "colab": {
          "base_uri": "https://localhost:8080/",
          "height": 153
        },
        "outputId": "60a0e55b-8545-4df9-dadf-4dfa43c9f693"
      },
      "source": [
        "# trainでの予測\n",
        "y_pred_train = model.predict(X_train)\n",
        "print(\"Test set predictions: \\n {}\".format(y_pred_train))\n",
        "\n",
        "print('setosa:{}'.format(list(y_pred_train).count(0)))\n",
        "print('versicolor:{}'.format(list(y_pred_train).count(1)))\n",
        "print('virginica:{}'.format(list(y_pred_train).count(2)))"
      ],
      "execution_count": 25,
      "outputs": [
        {
          "output_type": "stream",
          "text": [
            "Test set predictions: \n",
            " [1 1 2 0 2 0 0 1 2 2 2 2 1 2 1 1 2 2 2 2 1 2 1 0 2 1 1 1 1 2 0 0 2 1 0 0 1\n",
            " 0 2 1 0 1 2 1 0 2 2 2 2 0 0 2 2 0 2 0 2 2 0 0 2 0 0 0 1 2 2 0 0 0 1 1 0 0\n",
            " 1 0 2 1 2 1 0 2 0 2 0 0 2 0 2 1 1 1 2 2 1 1 0 1 2 2 0 1 1 1 1 0 0 0 2 1 2\n",
            " 0]\n",
            "setosa:37\n",
            "versicolor:34\n",
            "virginica:41\n"
          ],
          "name": "stdout"
        }
      ]
    },
    {
      "cell_type": "code",
      "metadata": {
        "id": "H9vX5mXv0ni0",
        "colab_type": "code",
        "colab": {
          "base_uri": "https://localhost:8080/",
          "height": 707
        },
        "outputId": "37771c7e-c67a-48e8-fb41-023de8aa42db"
      },
      "source": [
        "# ツリーの可視化\n",
        "from sklearn import tree\n",
        "import pydotplus\n",
        "from sklearn.externals.six import StringIO\n",
        "from IPython.display import Image\n",
        "\n",
        "dot_data = StringIO()\n",
        "tree.export_graphviz(model, out_file=dot_data)\n",
        "graph = pydotplus.graph_from_dot_data(dot_data.getvalue())\n",
        "Image(graph.create_png())  "
      ],
      "execution_count": 26,
      "outputs": [
        {
          "output_type": "stream",
          "text": [
            "/usr/local/lib/python3.6/dist-packages/sklearn/externals/six.py:31: FutureWarning: The module is deprecated in version 0.21 and will be removed in version 0.23 since we've dropped support for Python 2.7. Please rely on the official version of six (https://pypi.org/project/six/).\n",
            "  \"(https://pypi.org/project/six/).\", FutureWarning)\n"
          ],
          "name": "stderr"
        },
        {
          "output_type": "execute_result",
          "data": {
            "image/png": "[encoded data removed]",
            "text/plain": [
              "<IPython.core.display.Image object>"
            ]
          },
          "metadata": {
            "tags": []
          },
          "execution_count": 26
        }
      ]
    },
    {
      "cell_type": "code",
      "metadata": {
        "id": "08mZZoOw0sXa",
        "colab_type": "code",
        "colab": {}
      },
      "source": [
        ""
      ],
      "execution_count": null,
      "outputs": []
    }
  ]
}